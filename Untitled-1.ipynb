{
 "cells": [
  {
   "cell_type": "code",
   "execution_count": 1,
   "metadata": {},
   "outputs": [
    {
     "name": "stderr",
     "output_type": "stream",
     "text": [
      "/var/folders/qg/9s2j5lwn50jfky3029w125l00000gn/T/ipykernel_89214/1169034968.py:12: DeprecationWarning: headless property is deprecated, instead use add_argument('--headless') or add_argument('--headless=new')\n",
      "  options.headless = True\n"
     ]
    }
   ],
   "source": [
    "import time\n",
    "from selenium import webdriver \n",
    "from selenium.webdriver.chrome.service import Service \n",
    "from selenium.webdriver.common.by import By \n",
    "\n",
    "\n",
    "options = webdriver.ChromeOptions() \n",
    "#options.headless = False\n",
    "chrome_path = \"/Users/kfiralfandary/.wdm/drivers/chromedriver/mac64/109.0.5414/chromedriver\"\n",
    "chrome_service = Service(chrome_path) \n",
    "driver = webdriver.Chrome(service=chrome_service, options=options)\n",
    "options.headless = True\n",
    "driver2 = webdriver.Chrome(service=chrome_service, options=options)"
   ]
  },
  {
   "cell_type": "code",
   "execution_count": 7,
   "metadata": {},
   "outputs": [
    {
     "name": "stdout",
     "output_type": "stream",
     "text": [
      "Mozilla/5.0 (Macintosh; Intel Mac OS X 10_15_7) AppleWebKit/537.36 (KHTML, like Gecko) Chrome/109.0.0.0 Safari/537.36 \n",
      "\n",
      "..\n",
      " Mozilla/5.0 (Macintosh; Intel Mac OS X 10_15_7) AppleWebKit/537.36 (KHTML, like Gecko) Chrome/109.0.0.0 Safari/537.36\n"
     ]
    }
   ],
   "source": [
    "a = driver.execute_script(\"return navigator.userAgent\")\n",
    "b = driver.execute_script(\"return navigator.userAgent\")\n",
    "print(a,\"\\n\\n..\\n\" ,b)"
   ]
  },
  {
   "cell_type": "code",
   "execution_count": 2,
   "metadata": {},
   "outputs": [
    {
     "name": "stderr",
     "output_type": "stream",
     "text": [
      "/var/folders/qg/9s2j5lwn50jfky3029w125l00000gn/T/ipykernel_89214/2212441702.py:8: DeprecationWarning: headless property is deprecated, instead use add_argument('--headless') or add_argument('--headless=new')\n",
      "  options.headless = True\n"
     ]
    },
    {
     "name": "stdout",
     "output_type": "stream",
     "text": [
      "27123\n",
      "35643\n"
     ]
    }
   ],
   "source": [
    "import time\n",
    "from selenium import webdriver \n",
    "from selenium.webdriver.chrome.service import Service \n",
    "from selenium.webdriver.common.by import By \n",
    "\n",
    "\n",
    "options = webdriver.ChromeOptions() \n",
    "options.headless = True\n",
    "options.add_argument(\"user-agent=Mozilla/5.0 (Macintosh; Intel Mac OS X 10_15_7) AppleWebKit/537.36 (KHTML, like Gecko) Chrome/109.0.0.0 Safari/537.36\")\n",
    "\n",
    "chrome_path = \"/Users/kfiralfandary/.wdm/drivers/chromedriver/mac64/109.0.5414/chromedriver\"\n",
    "chrome_service = Service(chrome_path) \n",
    "driver = webdriver.Chrome(service=chrome_service, options=options)\n",
    "\n",
    "driver.get(\"https://web.whatsapp.com/\")\n",
    "print(len(driver.page_source))\n",
    "time.sleep(5)\n",
    "print(len(driver.page_source))"
   ]
  },
  {
   "cell_type": "code",
   "execution_count": 15,
   "metadata": {},
   "outputs": [
    {
     "name": "stdout",
     "output_type": "stream",
     "text": [
      "Mozilla/5.0 (Macintosh; Intel Mac OS X 10_15_7) AppleWebKit/537.36 (KHTML, like Gecko) Chrome/109.0.0.0 Safari/537.36\n"
     ]
    }
   ],
   "source": [
    "print (driver.execute_script(\"return navigator.userAgent\"))"
   ]
  },
  {
   "cell_type": "code",
   "execution_count": 3,
   "metadata": {},
   "outputs": [
    {
     "name": "stdout",
     "output_type": "stream",
     "text": [
      "35643\n"
     ]
    },
    {
     "data": {
      "image/png": "[encoded data removed]",
      "text/plain": [
       "<IPython.core.display.Image object>"
      ]
     },
     "execution_count": 3,
     "metadata": {},
     "output_type": "execute_result"
    }
   ],
   "source": [
    "print(len(driver.page_source))\n",
    "qr=driver.find_elements(By.XPATH, \"//div[@data-testid='qrcode']\")[0]\n",
    "\n",
    "from IPython import display\n",
    "from base64 import b64decode\n",
    "display.Image(b64decode(qr.screenshot_as_base64))\n"
   ]
  },
  {
   "cell_type": "code",
   "execution_count": null,
   "metadata": {},
   "outputs": [],
   "source": [
    "search_box = find_div_by_testid(self._browswer, 'chat-list-search')\n",
    "search_box.click()\n",
    "search_box.send_keys(\"shopping\")"
   ]
  },
  {
   "cell_type": "code",
   "execution_count": 22,
   "metadata": {},
   "outputs": [
    {
     "name": "stdout",
     "output_type": "stream",
     "text": [
      "True\n"
     ]
    }
   ],
   "source": [
    "from selenium.webdriver.support.wait import WebDriverWait, TimeoutException\n",
    "from selenium.webdriver.support import expected_conditions as EC\n",
    "\n",
    "ele = None\n",
    "\n",
    "try:\n",
    "    ele = WebDriverWait(driver, 10).until(\n",
    "        EC.presence_of_element_located((By.XPATH, \"//div[@data-testid='qrcode']\"))\n",
    "    )\n",
    "except TimeoutException as e:\n",
    "    # try again, but don't wait forever.\n",
    "    ele = WebDriverWait(driver, 10).until(\n",
    "        EC.presence_of_element_located((By.XPATH, \"//div[@data-testid='qrcode']\"))\n",
    "    )\n",
    "\n",
    "ele = WebDriverWait(driver, 1).until_not(\n",
    "    EC.presence_of_element_located((By.XPATH, \"//div[@data-testid='qrcoda']\"))\n",
    ")\n",
    "print (ele)"
   ]
  },
  {
   "attachments": {},
   "cell_type": "markdown",
   "metadata": {},
   "source": []
  },
  {
   "cell_type": "code",
   "execution_count": 5,
   "metadata": {},
   "outputs": [
    {
     "name": "stdout",
     "output_type": "stream",
     "text": [
      "nice\n"
     ]
    }
   ],
   "source": [
    "chat_list=driver.find_elements(By.XPATH, \"//div[@data-testid='chat-list']\")[0]\n",
    "\n",
    "\n",
    "conversations=chat_list.find_elements(By.XPATH, \"//div[@data-testid='cell-frame-container']\")\n",
    "shopping_list_id=None\n",
    "for conv_id, conversation in enumerate( conversations):\n",
    "    displayed_text = conversation.text.split(\"\\n\")[0]\n",
    "    if displayed_text == 'shopping_list':\n",
    "        shopping_list_id = conv_id\n",
    "        print(\"nice\")\n",
    "#need to search for it\n",
    "shopping_conv = conversations[shopping_list_id]\n",
    "shopping_conv.click()\n"
   ]
  },
  {
   "cell_type": "code",
   "execution_count": 7,
   "metadata": {},
   "outputs": [
    {
     "name": "stdout",
     "output_type": "stream",
     "text": [
      "['conv-msg-true', '120363029846531720@g.us', '3EB0C16380F5D67078B8', '972544311232@c.us']\n",
      "['this', 'is', 'with', 'lines']\n",
      "['conv-msg-true', '120363029846531720@g.us', '3EB06A9D9819CB6EEC51', '972544311232@c.us']\n",
      "['\\\\']\n",
      "['conv-msg-true', '120363029846531720@g.us', '3A46EB737D4F48E654CB', '972544311232@c.us']\n",
      "['.']\n"
     ]
    }
   ],
   "source": [
    "conversation_panel = driver.find_elements(By.XPATH, \"//div[@data-testid='conversation-panel-messages']\")[0]\n",
    "\n",
    "\n",
    "messages = conversation_panel.find_elements(By.XPATH, \"//div[contains(@data-testid, 'conv-msg-true')]\")\n",
    "# metada is ['conv-msg-true', '120363029846531720@g.us', '3EB04E4AFFB48D273D57', '972544311232@c.us']\n",
    "\n",
    "for message in messages:\n",
    "    msg_metadata=message.get_attribute(\"data-testid\")\n",
    "    print(msg_metadata.split(\"_\"))\n",
    "    print(message.text.split(\"\\n\")[:-1])\n",
    "\n"
   ]
  },
  {
   "cell_type": "code",
   "execution_count": 1,
   "metadata": {},
   "outputs": [
    {
     "name": "stdout",
     "output_type": "stream",
     "text": [
      "<Response [200]>\n"
     ]
    }
   ],
   "source": [
    "from python_bring_api.bring import Bring\n",
    "bring = Bring(\"szmpyqnmk9@privaterelay.appleid.com\", \"inbarwantmylist1!\")\n",
    "\n",
    "try:\n",
    "    t=bring.login()\n",
    "    print(t)\n",
    "except Exception as e:\n",
    "    print(e.msg, e.doc)"
   ]
  },
  {
   "cell_type": "code",
   "execution_count": 11,
   "metadata": {},
   "outputs": [
    {
     "name": "stdout",
     "output_type": "stream",
     "text": [
      "<bring.Bring object at 0x106a85ed0>\n"
     ]
    },
    {
     "data": {
      "text/plain": [
       "<Response [200]>"
      ]
     },
     "execution_count": 11,
     "metadata": {},
     "output_type": "execute_result"
    }
   ],
   "source": [
    "import bring\n",
    "b = bring.Bring(\"szmpyqnmk9@privaterelay.appleid.com\", \"inbarwantmylist1!\")\n",
    "print (b)\n",
    "b.login()"
   ]
  },
  {
   "cell_type": "code",
   "execution_count": 12,
   "metadata": {},
   "outputs": [
    {
     "name": "stdout",
     "output_type": "stream",
     "text": [
      "{'lists': [{'listUuid': '1e8d7542-1a54-4050-b315-8af799d581dd', 'name': 'Home', 'theme': 'ch.publisheria.bring.theme.home'}]}\n"
     ]
    },
    {
     "data": {
      "text/plain": [
       "{'uuid': '1e8d7542-1a54-4050-b315-8af799d581dd',\n",
       " 'status': 'INVITATION',\n",
       " 'purchase': [{'specification': '50gr ', 'name': 'Pinienkerne'},\n",
       "  {'specification': 'para el cuerpo', 'name': 'Rahm'},\n",
       "  {'specification': '2 ', 'name': 'Rote Bete'},\n",
       "  {'specification': '', 'name': 'Ejotes'},\n",
       "  {'specification': '', 'name': 'Thymian'},\n",
       "  {'specification': '', 'name': 'Griess'},\n",
       "  {'specification': '', 'name': 'Basilikum'},\n",
       "  {'specification': '', 'name': 'tomate'},\n",
       "  {'specification': '', 'name': 'אבטיח'},\n",
       "  {'specification': '', 'name': 'Erdbeeren'},\n",
       "  {'specification': '', 'name': 'Eier'},\n",
       "  {'specification': '', 'name': 'Random'},\n",
       "  {'specification': '', 'name': 'Kürbis'}],\n",
       " 'recently': [{'specification': '', 'name': 'Kartoffeln'},\n",
       "  {'specification': '', 'name': 'Cacao'},\n",
       "  {'specification': '', 'name': 'Brokkoli'},\n",
       "  {'specification': '', 'name': 'Peperoni'},\n",
       "  {'specification': '', 'name': 'Schokolade'},\n",
       "  {'specification': '', 'name': 'Tomaten'},\n",
       "  {'specification': '', 'name': 'muzarela'},\n",
       "  {'specification': '', 'name': 'Tofu'},\n",
       "  {'specification': '', 'name': 'Bananen'},\n",
       "  {'specification': '', 'name': 'Erbsen'},\n",
       "  {'specification': '', 'name': 'Zucchetti'},\n",
       "  {'specification': '', 'name': 'Milch'}]}"
      ]
     },
     "execution_count": 12,
     "metadata": {},
     "output_type": "execute_result"
    }
   ],
   "source": [
    "lists = b.loadLists()\n",
    "print(lists)\n",
    "b.getItems(lists['lists'][0]['listUuid'])"
   ]
  },
  {
   "cell_type": "code",
   "execution_count": 15,
   "metadata": {},
   "outputs": [
    {
     "data": {
      "text/plain": [
       "<Response [204]>"
      ]
     },
     "execution_count": 15,
     "metadata": {},
     "output_type": "execute_result"
    }
   ],
   "source": [
    "lists = b.loadLists()\n",
    "b.saveItem(lists['lists'][0]['listUuid'], 'Calabacín', '5')\n",
    "\n"
   ]
  },
  {
   "cell_type": "code",
   "execution_count": 3,
   "metadata": {},
   "outputs": [
    {
     "name": "stdout",
     "output_type": "stream",
     "text": [
      "{'lists': [{'listUuid': '1e8d7542-1a54-4050-b315-8af799d581dd', 'name': 'Home', 'theme': 'ch.publisheria.bring.theme.home'}]}\n"
     ]
    },
    {
     "data": {
      "text/plain": [
       "{'uuid': '1e8d7542-1a54-4050-b315-8af799d581dd',\n",
       " 'status': 'INVITATION',\n",
       " 'purchase': [{'specification': '50gr ', 'name': 'Pinienkerne'},\n",
       "  {'specification': 'para el cuerpo', 'name': 'Rahm'},\n",
       "  {'specification': '2 ', 'name': 'Rote Bete'},\n",
       "  {'specification': '', 'name': 'Ejotes'},\n",
       "  {'specification': '', 'name': 'Thymian'},\n",
       "  {'specification': '', 'name': 'Griess'},\n",
       "  {'specification': '', 'name': 'Basilikum'},\n",
       "  {'specification': 'low fat', 'name': 'Milk'},\n",
       "  {'specification': '5', 'name': 'tomate'}],\n",
       " 'recently': [{'specification': '', 'name': 'Karotten'},\n",
       "  {'specification': '', 'name': 'Petersilie'},\n",
       "  {'specification': '', 'name': 'Gurke'},\n",
       "  {'specification': '', 'name': 'Tomaten'},\n",
       "  {'specification': '', 'name': 'muzarela'},\n",
       "  {'specification': '', 'name': 'Tofu'},\n",
       "  {'specification': '', 'name': 'Kürbis'},\n",
       "  {'specification': '', 'name': 'Erdbeeren'},\n",
       "  {'specification': '', 'name': 'Bananen'},\n",
       "  {'specification': '', 'name': 'Eier'},\n",
       "  {'specification': '', 'name': 'Erbsen'},\n",
       "  {'specification': '', 'name': 'Zucchetti'}]}"
      ]
     },
     "execution_count": 3,
     "metadata": {},
     "output_type": "execute_result"
    }
   ],
   "source": [
    "print(lists)\n",
    "\n",
    "bring.getItems(lists['lists'][0]['listUuid'])\n"
   ]
  }
 ],
 "metadata": {
  "kernelspec": {
   "display_name": "Python 3",
   "language": "python",
   "name": "python3"
  },
  "language_info": {
   "codemirror_mode": {
    "name": "ipython",
    "version": 3
   },
   "file_extension": ".py",
   "mimetype": "text/x-python",
   "name": "python",
   "nbconvert_exporter": "python",
   "pygments_lexer": "ipython3",
   "version": "3.11.1"
  },
  "orig_nbformat": 4,
  "vscode": {
   "interpreter": {
    "hash": "aee8b7b246df8f9039afb4144a1f6fd8d2ca17a180786b69acc140d282b71a49"
   }
  }
 },
 "nbformat": 4,
 "nbformat_minor": 2
}
