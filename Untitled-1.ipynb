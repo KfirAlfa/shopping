{
 "cells": [
  {
   "cell_type": "code",
   "execution_count": 1,
   "metadata": {},
   "outputs": [
    {
     "name": "stderr",
     "output_type": "stream",
     "text": [
      "/var/folders/qg/9s2j5lwn50jfky3029w125l00000gn/T/ipykernel_87476/1169034968.py:12: DeprecationWarning: headless property is deprecated, instead use add_argument('--headless') or add_argument('--headless=new')\n",
      "  options.headless = True\n"
     ]
    }
   ],
   "source": [
    "import time\n",
    "from selenium import webdriver \n",
    "from selenium.webdriver.chrome.service import Service \n",
    "from selenium.webdriver.common.by import By \n",
    "\n",
    "\n",
    "options = webdriver.ChromeOptions() \n",
    "#options.headless = False\n",
    "chrome_path = \"/Users/kfiralfandary/.wdm/drivers/chromedriver/mac64/109.0.5414/chromedriver\"\n",
    "chrome_service = Service(chrome_path) \n",
    "driver = webdriver.Chrome(service=chrome_service, options=options)\n",
    "options.headless = True\n",
    "driver2 = webdriver.Chrome(service=chrome_service, options=options)"
   ]
  },
  {
   "cell_type": "code",
   "execution_count": 7,
   "metadata": {},
   "outputs": [
    {
     "name": "stdout",
     "output_type": "stream",
     "text": [
      "Mozilla/5.0 (Macintosh; Intel Mac OS X 10_15_7) AppleWebKit/537.36 (KHTML, like Gecko) Chrome/109.0.0.0 Safari/537.36 \n",
      "\n",
      "..\n",
      " Mozilla/5.0 (Macintosh; Intel Mac OS X 10_15_7) AppleWebKit/537.36 (KHTML, like Gecko) Chrome/109.0.0.0 Safari/537.36\n"
     ]
    }
   ],
   "source": [
    "a = driver.execute_script(\"return navigator.userAgent\")\n",
    "b = driver.execute_script(\"return navigator.userAgent\")\n",
    "print(a,\"\\n\\n..\\n\" ,b)"
   ]
  },
  {
   "cell_type": "code",
   "execution_count": 2,
   "metadata": {},
   "outputs": [
    {
     "name": "stderr",
     "output_type": "stream",
     "text": [
      "/var/folders/qg/9s2j5lwn50jfky3029w125l00000gn/T/ipykernel_87476/2212441702.py:8: DeprecationWarning: headless property is deprecated, instead use add_argument('--headless') or add_argument('--headless=new')\n",
      "  options.headless = True\n"
     ]
    },
    {
     "name": "stdout",
     "output_type": "stream",
     "text": [
      "27116\n",
      "35630\n"
     ]
    }
   ],
   "source": [
    "import time\n",
    "from selenium import webdriver \n",
    "from selenium.webdriver.chrome.service import Service \n",
    "from selenium.webdriver.common.by import By \n",
    "\n",
    "\n",
    "options = webdriver.ChromeOptions() \n",
    "options.headless = True\n",
    "options.add_argument(\"user-agent=Mozilla/5.0 (Macintosh; Intel Mac OS X 10_15_7) AppleWebKit/537.36 (KHTML, like Gecko) Chrome/109.0.0.0 Safari/537.36\")\n",
    "\n",
    "chrome_path = \"/Users/kfiralfandary/.wdm/drivers/chromedriver/mac64/109.0.5414/chromedriver\"\n",
    "chrome_service = Service(chrome_path) \n",
    "driver = webdriver.Chrome(service=chrome_service, options=options)\n",
    "\n",
    "driver.get(\"https://web.whatsapp.com/\")\n",
    "print(len(driver.page_source))\n",
    "time.sleep(5)\n",
    "print(len(driver.page_source))"
   ]
  },
  {
   "cell_type": "code",
   "execution_count": 15,
   "metadata": {},
   "outputs": [
    {
     "name": "stdout",
     "output_type": "stream",
     "text": [
      "Mozilla/5.0 (Macintosh; Intel Mac OS X 10_15_7) AppleWebKit/537.36 (KHTML, like Gecko) Chrome/109.0.0.0 Safari/537.36\n"
     ]
    }
   ],
   "source": [
    "print (driver.execute_script(\"return navigator.userAgent\"))"
   ]
  },
  {
   "cell_type": "code",
   "execution_count": 5,
   "metadata": {},
   "outputs": [
    {
     "name": "stdout",
     "output_type": "stream",
     "text": [
      "88325\n"
     ]
    },
    {
     "ename": "IndexError",
     "evalue": "list index out of range",
     "output_type": "error",
     "traceback": [
      "\u001b[0;31m---------------------------------------------------------------------------\u001b[0m",
      "\u001b[0;31mIndexError\u001b[0m                                Traceback (most recent call last)",
      "Cell \u001b[0;32mIn[5], line 2\u001b[0m\n\u001b[1;32m      1\u001b[0m \u001b[39mprint\u001b[39m(\u001b[39mlen\u001b[39m(driver\u001b[39m.\u001b[39mpage_source))\n\u001b[0;32m----> 2\u001b[0m qr\u001b[39m=\u001b[39mdriver\u001b[39m.\u001b[39;49mfind_elements(By\u001b[39m.\u001b[39;49mXPATH, \u001b[39m\"\u001b[39;49m\u001b[39m//div[@data-testid=\u001b[39;49m\u001b[39m'\u001b[39;49m\u001b[39mqrcode\u001b[39;49m\u001b[39m'\u001b[39;49m\u001b[39m]\u001b[39;49m\u001b[39m\"\u001b[39;49m)[\u001b[39m0\u001b[39;49m]\n\u001b[1;32m      4\u001b[0m \u001b[39mfrom\u001b[39;00m \u001b[39mIPython\u001b[39;00m \u001b[39mimport\u001b[39;00m display\n\u001b[1;32m      5\u001b[0m \u001b[39mfrom\u001b[39;00m \u001b[39mbase64\u001b[39;00m \u001b[39mimport\u001b[39;00m b64decode\n",
      "\u001b[0;31mIndexError\u001b[0m: list index out of range"
     ]
    }
   ],
   "source": [
    "print(len(driver.page_source))\n",
    "qr=driver.find_elements(By.XPATH, \"//div[@data-testid='qrcode']\")[0]\n",
    "\n",
    "from IPython import display\n",
    "from base64 import b64decode\n",
    "display.Image(b64decode(qr.screenshot_as_base64))\n"
   ]
  },
  {
   "attachments": {},
   "cell_type": "markdown",
   "metadata": {},
   "source": []
  },
  {
   "cell_type": "code",
   "execution_count": 5,
   "metadata": {},
   "outputs": [
    {
     "name": "stdout",
     "output_type": "stream",
     "text": [
      "nice\n"
     ]
    }
   ],
   "source": [
    "chat_list=driver.find_elements(By.XPATH, \"//div[@data-testid='chat-list']\")[0]\n",
    "\n",
    "\n",
    "conversations=chat_list.find_elements(By.XPATH, \"//div[@data-testid='cell-frame-container']\")\n",
    "shopping_list_id=None\n",
    "for conv_id, conversation in enumerate( conversations):\n",
    "    displayed_text = conversation.text.split(\"\\n\")[0]\n",
    "    if displayed_text == 'shopping_list':\n",
    "        shopping_list_id = conv_id\n",
    "        print(\"nice\")\n",
    "#need to search for it\n",
    "shopping_conv = conversations[shopping_list_id]\n",
    "shopping_conv.click()\n"
   ]
  },
  {
   "cell_type": "code",
   "execution_count": 7,
   "metadata": {},
   "outputs": [
    {
     "name": "stdout",
     "output_type": "stream",
     "text": [
      "['conv-msg-true', '120363029846531720@g.us', '3EB0C16380F5D67078B8', '972544311232@c.us']\n",
      "['this', 'is', 'with', 'lines']\n",
      "['conv-msg-true', '120363029846531720@g.us', '3EB06A9D9819CB6EEC51', '972544311232@c.us']\n",
      "['\\\\']\n",
      "['conv-msg-true', '120363029846531720@g.us', '3A46EB737D4F48E654CB', '972544311232@c.us']\n",
      "['.']\n"
     ]
    }
   ],
   "source": [
    "conversation_panel = driver.find_elements(By.XPATH, \"//div[@data-testid='conversation-panel-messages']\")[0]\n",
    "\n",
    "\n",
    "messages = conversation_panel.find_elements(By.XPATH, \"//div[contains(@data-testid, 'conv-msg-true')]\")\n",
    "# metada is ['conv-msg-true', '120363029846531720@g.us', '3EB04E4AFFB48D273D57', '972544311232@c.us']\n",
    "\n",
    "for message in messages:\n",
    "    msg_metadata=message.get_attribute(\"data-testid\")\n",
    "    print(msg_metadata.split(\"_\"))\n",
    "    print(message.text.split(\"\\n\")[:-1])\n",
    "\n"
   ]
  },
  {
   "cell_type": "code",
   "execution_count": 24,
   "metadata": {},
   "outputs": [
    {
     "name": "stdout",
     "output_type": "stream",
     "text": [
      "<Response [200]>\n"
     ]
    }
   ],
   "source": [
    "from python_bring_api.bring import Bring\n",
    "bring = Bring(\"szmpyqnmk9@privaterelay.appleid.com\", \"inbarwantmylist1!\")\n",
    "\n",
    "try:\n",
    "    t=bring.login()\n",
    "    print(t)\n",
    "except Exception as e:\n",
    "    print(e.msg, e.doc)"
   ]
  },
  {
   "cell_type": "code",
   "execution_count": 19,
   "metadata": {},
   "outputs": [
    {
     "data": {
      "text/plain": [
       "<Response [204]>"
      ]
     },
     "execution_count": 19,
     "metadata": {},
     "output_type": "execute_result"
    }
   ],
   "source": [
    "lists = bring.loadLists()\n",
    "bring.saveItem(lists['lists'][0]['listUuid'], 'Milk', 'low fat')\n",
    "bring.saveItem(lists['lists'][0]['listUuid'], 'tomate', '5')\n",
    "\n"
   ]
  },
  {
   "cell_type": "code",
   "execution_count": 26,
   "metadata": {},
   "outputs": [
    {
     "name": "stdout",
     "output_type": "stream",
     "text": [
      "{'lists': [{'listUuid': '1e8d7542-1a54-4050-b315-8af799d581dd', 'name': 'Home', 'theme': 'ch.publisheria.bring.theme.home'}]}\n"
     ]
    },
    {
     "data": {
      "text/plain": [
       "{'uuid': '1e8d7542-1a54-4050-b315-8af799d581dd',\n",
       " 'status': 'REGISTERED',\n",
       " 'purchase': [{'specification': '5', 'name': 'tomate'},\n",
       "  {'specification': '', 'name': 'Milch'},\n",
       "  {'specification': 'low fat', 'name': 'Milk'},\n",
       "  {'specification': '', 'name': 'Spaghetti'},\n",
       "  {'specification': '1', 'name': 'Olivenöl'}],\n",
       " 'recently': []}"
      ]
     },
     "execution_count": 26,
     "metadata": {},
     "output_type": "execute_result"
    }
   ],
   "source": [
    "print(lists)\n",
    "\n",
    "bring.getItems(lists['lists'][0]['listUuid'])\n"
   ]
  }
 ],
 "metadata": {
  "kernelspec": {
   "display_name": "Python 3",
   "language": "python",
   "name": "python3"
  },
  "language_info": {
   "codemirror_mode": {
    "name": "ipython",
    "version": 3
   },
   "file_extension": ".py",
   "mimetype": "text/x-python",
   "name": "python",
   "nbconvert_exporter": "python",
   "pygments_lexer": "ipython3",
   "version": "3.11.1"
  },
  "orig_nbformat": 4,
  "vscode": {
   "interpreter": {
    "hash": "aee8b7b246df8f9039afb4144a1f6fd8d2ca17a180786b69acc140d282b71a49"
   }
  }
 },
 "nbformat": 4,
 "nbformat_minor": 2
}
